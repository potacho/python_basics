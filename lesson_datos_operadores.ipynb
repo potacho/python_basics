{
 "cells": [
  {
   "cell_type": "markdown",
   "id": "0936dae1",
   "metadata": {},
   "source": [
    "### Básicos de Python I\n",
    "\n",
    "- Tipos de datos\n",
    "\n",
    "- Operadores"
   ]
  },
  {
   "cell_type": "markdown",
   "id": "e0a94b91",
   "metadata": {},
   "source": [
    "---"
   ]
  },
  {
   "cell_type": "markdown",
   "id": "79acd73b",
   "metadata": {},
   "source": [
    "#### Tipos de datos\n",
    "\n",
    "Simples:\n",
    "\n",
    "- String\n",
    "- Integer\n",
    "- Float\n",
    "- Boolean\n",
    "\n",
    "Complejos:\n",
    "\n",
    "- Tuple\n",
    "- List\n",
    "- Dict\n",
    "- Set"
   ]
  },
  {
   "cell_type": "code",
   "execution_count": null,
   "id": "c445f586",
   "metadata": {},
   "outputs": [],
   "source": [
    "# string\n",
    "\n",
    "var = 'cadena de texto'\n",
    "#var = str(1)\n",
    "#var = var[:4]\n",
    "\n",
    "print(var)\n",
    "print(type(var))"
   ]
  },
  {
   "cell_type": "code",
   "execution_count": null,
   "id": "db71846d",
   "metadata": {},
   "outputs": [],
   "source": [
    "# numbers => integer and float\n",
    "\n",
    "x = 10\n",
    "y = 2\n",
    "z = x / y\n",
    "i = int(z)\n",
    "f = float(i)\n",
    "\n",
    "print(type(x))\n",
    "print(type(y))\n",
    "print(type(z))\n",
    "print(type(i))\n",
    "print(type(f))"
   ]
  },
  {
   "cell_type": "code",
   "execution_count": null,
   "id": "057b3a8a",
   "metadata": {},
   "outputs": [],
   "source": [
    "bvar = True\n",
    "#bvar = bool()\n",
    "#bvar = bool(1)\n",
    "#bvar = bool(0)\n",
    "#bvar = bool('1')\n",
    "#bvar = bool('0')\n",
    "#bvar = bool('0') * 8\n",
    "\n",
    "print(bvar)\n",
    "print(type(bvar))"
   ]
  },
  {
   "cell_type": "markdown",
   "id": "2ee7c239",
   "metadata": {},
   "source": [
    "---"
   ]
  },
  {
   "cell_type": "code",
   "execution_count": null,
   "id": "09254550",
   "metadata": {},
   "outputs": [],
   "source": [
    "# Tuples are immutables\n",
    "\n",
    "my_tuple = (1, '1', True, ['dog', 'cat'])\n",
    "\n",
    "print(type(my_tuple))\n",
    "#print(my_tuple[2])\n",
    "#print(type(my_tuple[3]))\n",
    "#print(my_tuple.count(0))\n",
    "#print(my_tuple.index(1))"
   ]
  },
  {
   "cell_type": "code",
   "execution_count": null,
   "id": "672a816b",
   "metadata": {},
   "outputs": [],
   "source": [
    "# lists or arrays\n",
    "\n",
    "my_array = [1, '1', True, ('dog', 'cat')]\n",
    "\n",
    "print(type(my_array))\n",
    "print(my_array[2])\n",
    "print(type(my_array[3]))\n",
    "print(my_array.count(0))\n",
    "print(my_array.index(1))"
   ]
  },
  {
   "cell_type": "code",
   "execution_count": null,
   "id": "4823dfd9",
   "metadata": {},
   "outputs": [],
   "source": [
    "# lists mutation methods\n",
    "\n",
    "my_array = [1, '1', True, ('dog', 'cat')]\n",
    "\n",
    "#my_array.append('platypus')\n",
    "#my_array.extend(['platypus', 'tardigrade'])\n",
    "#my_array.insert(1,'platypus')\n",
    "#my_array.pop(True)\n",
    "#my_array.remove(True)\n",
    "#my_array.reverse()\n",
    "#my_array.sort()\n",
    "#my_array.clear()\n",
    "#my_list = my_array.copy()\n",
    "\n",
    "print(len(my_array))\n",
    "print(my_list)\n",
    "my_array"
   ]
  },
  {
   "cell_type": "code",
   "execution_count": null,
   "id": "01570451",
   "metadata": {},
   "outputs": [],
   "source": [
    "# Dicts\n",
    "\n",
    "my_dict = {'key1': 'value', 'key2': 1981, 'key3': ['platypus', 'tardigrade']}\n",
    "\n",
    "#print(my_dict['key1'])\n",
    "#my_dict['key1'] = 'ironhack'\n",
    "\n",
    "print(len(my_dict))\n",
    "print(my_dict.keys())\n",
    "print(my_dict.values())\n",
    "my_dict\n"
   ]
  },
  {
   "cell_type": "code",
   "execution_count": null,
   "id": "4ce57bc7",
   "metadata": {},
   "outputs": [],
   "source": [
    "for i in my_dict.keys():\n",
    "     print(i)\n",
    "        \n",
    "for i in my_dict.values():\n",
    "    print(i)\n",
    "    \n",
    "for k, v in my_dict.items():\n",
    "     print(k, v)"
   ]
  },
  {
   "cell_type": "markdown",
   "id": "c9d65331",
   "metadata": {},
   "source": [
    "---"
   ]
  },
  {
   "cell_type": "markdown",
   "id": "56b3402d",
   "metadata": {},
   "source": [
    "#### Operadores\n",
    "\n",
    "- Arithmetic Operators\n",
    "\n",
    "- Assignment Operators\n",
    "\n",
    "- Comparison Operators\n",
    "\n",
    "- Logical Operators\n",
    "\n",
    "- Identity Operators\n",
    "\n",
    "- Membership Operators"
   ]
  },
  {
   "cell_type": "code",
   "execution_count": null,
   "id": "7f9a262c",
   "metadata": {},
   "outputs": [],
   "source": [
    "# Arithmetic Operators\n",
    "\n",
    "x = 6\n",
    "y = 2\n",
    "#print(x + y)\n",
    "#print(x - y)\n",
    "#print(x * y)\n",
    "#print(x / y)\n",
    "#print(x % y)    #módulo => resto\n",
    "#print(x ** y)   #potenciación\n",
    "#print(x // y)   #división entera"
   ]
  },
  {
   "cell_type": "code",
   "execution_count": null,
   "id": "9a828441",
   "metadata": {},
   "outputs": [],
   "source": [
    "# Assignment Operators\n",
    "\n",
    "x = 5\n",
    "#x += 3 # x = x + 3\n",
    "#x -= 3 # x = x - 3\n",
    "#x *= 3 # x = x * 3\n",
    "#x /= 3 # x = x / 3\n",
    "x"
   ]
  },
  {
   "cell_type": "code",
   "execution_count": null,
   "id": "18de3017",
   "metadata": {},
   "outputs": [],
   "source": [
    "# Comparison Operators\n",
    "x = 15\n",
    "y = 16\n",
    "\n",
    "print(x == y)\n",
    "print(x != y)\n",
    "print(x < y)\n",
    "print(x > y)\n",
    "print(x <= y)\n",
    "print(x >= y)"
   ]
  },
  {
   "cell_type": "code",
   "execution_count": null,
   "id": "03a7591b",
   "metadata": {},
   "outputs": [],
   "source": [
    "# Logical Operators (and, or, not)\n",
    "x = 8\n",
    "if x < 5 or x < 10:\n",
    "    print('True')\n",
    "else:\n",
    "    print('False')"
   ]
  },
  {
   "cell_type": "code",
   "execution_count": null,
   "id": "7d571194",
   "metadata": {},
   "outputs": [],
   "source": [
    "# Identity Operators and Membership Operators\n",
    "\n",
    "var1 = 'autolavado'\n",
    "var2 = 'lavado'\n",
    "\n",
    "var1 is var2\n",
    "#var2 in var1"
   ]
  }
 ],
 "metadata": {
  "kernelspec": {
   "display_name": "Python [conda env:.conda-ironhack]",
   "language": "python",
   "name": "conda-env-.conda-ironhack-py"
  },
  "language_info": {
   "codemirror_mode": {
    "name": "ipython",
    "version": 3
   },
   "file_extension": ".py",
   "mimetype": "text/x-python",
   "name": "python",
   "nbconvert_exporter": "python",
   "pygments_lexer": "ipython3",
   "version": "3.7.11"
  }
 },
 "nbformat": 4,
 "nbformat_minor": 5
}
