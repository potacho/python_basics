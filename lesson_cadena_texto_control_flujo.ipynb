{
 "cells": [
  {
   "cell_type": "markdown",
   "id": "b368eda7",
   "metadata": {},
   "source": [
    "### Básicos de Python II\n",
    "\n",
    "- Control de flujo\n",
    "\n",
    "- Operaciones con cadenas de texto\n"
   ]
  },
  {
   "cell_type": "markdown",
   "id": "727a5a39",
   "metadata": {},
   "source": [
    "---"
   ]
  },
  {
   "cell_type": "markdown",
   "id": "a132388a",
   "metadata": {},
   "source": [
    "### Control de flujo"
   ]
  },
  {
   "cell_type": "code",
   "execution_count": null,
   "id": "c4866933",
   "metadata": {},
   "outputs": [],
   "source": [
    "# if, elif, else\n",
    "\n",
    "price = float(input(\"Enter a price: \"))\n",
    "quantity = int(input(\"Enter a quantity: \"))\n",
    "amount = price*quantity\n",
    "\n",
    "if amount > 100:\n",
    "    if amount > 500:\n",
    "        print(\"Amount is greater than 500\")\n",
    "    else:\n",
    "        if amount < 500 and amount > 400:\n",
    "            print(\"Amount is\")\n",
    "        elif amount < 500 and amount > 300:\n",
    "            print(\"Amount is between 300 and 500\")\n",
    "        else:\n",
    "            print(\"Amount is between 200 and 500\")\n",
    "elif amount == 100:\n",
    "    print(\"Amount is 100\")\n",
    "else:\n",
    "    print(\"Amount is less than 100\")"
   ]
  },
  {
   "cell_type": "code",
   "execution_count": null,
   "id": "52b3f03d",
   "metadata": {},
   "outputs": [],
   "source": [
    "# for loop\n",
    "\n",
    "rows = 5\n",
    "# outer loop\n",
    "for i in range(rows):\n",
    "    # inner loop\n",
    "    for j in range(i + 1):\n",
    "        print(\"*\", end=\" \")\n",
    "    print('')"
   ]
  },
  {
   "cell_type": "code",
   "execution_count": null,
   "id": "16bf40ed",
   "metadata": {},
   "outputs": [],
   "source": [
    "# while loop\n",
    "\n",
    "names = ['Ana', 'Fran', 'Angel', 'Jaime', 'Pedro', 'Elvira', 'Halima', 'Javier', 'Guillaume']\n",
    "# outer loop\n",
    "for name in names:\n",
    "    # inner while loop\n",
    "    count = 0\n",
    "    while count < 5:\n",
    "        print(name, end=' ')\n",
    "        # increment counter\n",
    "        count += 1\n",
    "    print(name)"
   ]
  },
  {
   "cell_type": "code",
   "execution_count": null,
   "id": "3dfd55d2",
   "metadata": {},
   "outputs": [],
   "source": [
    "# break\n",
    "\n",
    "for i in range(4):\n",
    "    for j in range(4):\n",
    "        if j == i:\n",
    "            break\n",
    "        print(i, j)"
   ]
  },
  {
   "cell_type": "markdown",
   "id": "e030e891",
   "metadata": {},
   "source": [
    "---"
   ]
  },
  {
   "cell_type": "markdown",
   "id": "588a23a8",
   "metadata": {},
   "source": [
    "### Operaciones con cadenas de texto"
   ]
  },
  {
   "cell_type": "code",
   "execution_count": null,
   "id": "d3c68c76",
   "metadata": {},
   "outputs": [],
   "source": [
    "my_string = 'Cadena de Texto'\n",
    "print(type(my_string))"
   ]
  },
  {
   "cell_type": "markdown",
   "id": "803b6d93",
   "metadata": {},
   "source": [
    "#### Concatenar cadenas de texto"
   ]
  },
  {
   "cell_type": "code",
   "execution_count": null,
   "id": "50d1b320",
   "metadata": {},
   "outputs": [],
   "source": [
    "# using operators\n",
    "print('Hello' + \" \" + 'World')"
   ]
  },
  {
   "cell_type": "code",
   "execution_count": null,
   "id": "c78f2103",
   "metadata": {},
   "outputs": [],
   "source": [
    "print('Data ' * 8)"
   ]
  },
  {
   "cell_type": "code",
   "execution_count": null,
   "id": "5a93d617",
   "metadata": {},
   "outputs": [],
   "source": [
    "# Using format method\n",
    "a = 'Penny is'\n",
    "b = 'dog'\n",
    "print( a + ' a ' + 'beautiful' + ' ' + b)\n",
    "str_01 = a\n",
    "str_02 = b\n",
    "print('{} a beautiful {} that is what {}'.format(str_01, str_02, str_01))\n",
    "#print('{0} a beautiful {1} that is what {0}'.format(str_01, str_02))\n",
    "#print(f'{str_01} a beautiful {str_02}')"
   ]
  },
  {
   "cell_type": "markdown",
   "id": "883a59b2",
   "metadata": {},
   "source": [
    "#### .join()"
   ]
  },
  {
   "cell_type": "code",
   "execution_count": null,
   "id": "96021799",
   "metadata": {},
   "outputs": [],
   "source": [
    "str_03 = 'Happy'\n",
    "str_04 = 'Puppies'\n",
    "str_05 = [str_03, str_04, str_03]\n",
    "\n",
    "print(str_05)\n",
    "print(' '.join(str_05))\n",
    "print(type('hello'.join(str_05)))"
   ]
  },
  {
   "cell_type": "markdown",
   "id": "544a597f",
   "metadata": {},
   "source": [
    "#### .strip()"
   ]
  },
  {
   "cell_type": "code",
   "execution_count": null,
   "id": "0b6852cd",
   "metadata": {},
   "outputs": [],
   "source": [
    "'      y                        kasdj flñkjasd fkljasd fkjñalsf         jñlkasdfj                  '.strip()"
   ]
  },
  {
   "cell_type": "code",
   "execution_count": null,
   "id": "b8e72fca",
   "metadata": {},
   "outputs": [],
   "source": [
    "'      y                        kasdj flñkjasd fkljasd fkjñalsf         jñlkasdfj                  '.rstrip()"
   ]
  },
  {
   "cell_type": "code",
   "execution_count": null,
   "id": "05806bdd",
   "metadata": {},
   "outputs": [],
   "source": [
    "'      y                        kasdj flñkjasd fkljasd fkjñalsf         jñlkasdfj                  '.lstrip()"
   ]
  },
  {
   "cell_type": "markdown",
   "id": "caf9a01d",
   "metadata": {},
   "source": [
    "#### Segmentación"
   ]
  },
  {
   "cell_type": "code",
   "execution_count": null,
   "id": "ced7a4d7",
   "metadata": {},
   "outputs": [],
   "source": [
    "word = 'automobile'\n",
    "print(word[0])\n",
    "#print(word[5])\n",
    "#print(word[-1])\n",
    "#print(word[-4])\n",
    "#print(word[0:4])\n",
    "#print(word[:4])\n",
    "#print(word[4:])\n",
    "#print(word[0:5])\n",
    "#print(word[0:5:2])\n",
    "#print(word[-3:len(word):2])"
   ]
  },
  {
   "cell_type": "markdown",
   "id": "f94dc98f",
   "metadata": {},
   "source": [
    "#### .split()"
   ]
  },
  {
   "cell_type": "code",
   "execution_count": null,
   "id": "7a830c26",
   "metadata": {},
   "outputs": [],
   "source": [
    "text = 'Leben ist das was passiert, während Du dabei bist andere Pläne zu machen.'\n",
    "print(text.split())\n",
    "#print(text.split(' '))\n",
    "#print(text.split(','))\n",
    "#print(text.split('.'))\n",
    "#print(text.split('p'))\n",
    "#print(text.split('passiert,'))"
   ]
  },
  {
   "cell_type": "markdown",
   "id": "6d6f746b",
   "metadata": {},
   "source": [
    "#### .startwith() / .endswith()"
   ]
  },
  {
   "cell_type": "code",
   "execution_count": null,
   "id": "2f73fb2d",
   "metadata": {},
   "outputs": [],
   "source": [
    "phrase = 'Ut desint vires, tamen est laudanda voluntas.'\n",
    "print(phrase.startswith('U'))\n",
    "#print(phrase.startswith('Ut'))\n",
    "#print(phrase.startswith('ut'))\n",
    "#print(phrase.endswith('.'))\n",
    "#print(phrase.endswith('volutas.'))\n",
    "#print(phrase.endswith('Volutas.'))"
   ]
  },
  {
   "cell_type": "markdown",
   "id": "4723fc34",
   "metadata": {},
   "source": [
    "#### in"
   ]
  },
  {
   "cell_type": "code",
   "execution_count": null,
   "id": "c0a2cd41",
   "metadata": {},
   "outputs": [],
   "source": [
    "print('desint' in phrase)\n",
    "#print('tamen' in phrase)\n",
    "#print('Laudanda' in phrase)"
   ]
  },
  {
   "cell_type": "markdown",
   "id": "baf31bf9",
   "metadata": {},
   "source": [
    "#### .lower() / .upper() / .capitalize() / .title()"
   ]
  },
  {
   "cell_type": "code",
   "execution_count": null,
   "id": "227d6b5e",
   "metadata": {},
   "outputs": [],
   "source": [
    "quote = 'shE HaD a maRveLoUs aSsoRtmeNt of PUPPETS. but helLo'\n",
    "\n",
    "print(quote.lower())\n",
    "#print(quote.upper())\n",
    "#print(quote.capitalize()) # only first\n",
    "#print(quote.title()) # all words"
   ]
  },
  {
   "cell_type": "markdown",
   "id": "4104dee3",
   "metadata": {},
   "source": [
    "#### .replace()"
   ]
  },
  {
   "cell_type": "code",
   "execution_count": null,
   "id": "68f85628",
   "metadata": {},
   "outputs": [],
   "source": [
    "statement = 'I thought       the movie    was wonderful!   '\n",
    "\n",
    "print(statement.replace('wonderful', 'horrible'))\n",
    "#print(statement.replace('wonderful', 'just OK'))\n",
    "#print(statement.replace('o', 'laksjdflñkjasñdl'))\n",
    "#print(statement.replace(' ', ''))"
   ]
  },
  {
   "cell_type": "markdown",
   "id": "36eab00a",
   "metadata": {},
   "source": [
    "#### Ejemplos complejos"
   ]
  },
  {
   "cell_type": "code",
   "execution_count": null,
   "id": "74183fc6",
   "metadata": {},
   "outputs": [],
   "source": [
    "split_str = quote.split('.')\n",
    "\n",
    "first_capitalize = split_str[0].capitalize()\n",
    "second_capitalize = split_str[1].strip().capitalize()\n",
    "\n",
    "print(first_capitalize + '. ' + second_capitalize)\n",
    "#print(f'{first_capitalize}. {second_capitalize}')"
   ]
  }
 ],
 "metadata": {
  "kernelspec": {
   "display_name": "Python [conda env:.conda-ironhack]",
   "language": "python",
   "name": "conda-env-.conda-ironhack-py"
  },
  "language_info": {
   "codemirror_mode": {
    "name": "ipython",
    "version": 3
   },
   "file_extension": ".py",
   "mimetype": "text/x-python",
   "name": "python",
   "nbconvert_exporter": "python",
   "pygments_lexer": "ipython3",
   "version": "3.7.11"
  }
 },
 "nbformat": 4,
 "nbformat_minor": 5
}
